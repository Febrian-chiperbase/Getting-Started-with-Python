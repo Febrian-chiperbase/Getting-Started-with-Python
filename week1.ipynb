{
  "nbformat": 4,
  "nbformat_minor": 0,
  "metadata": {
    "colab": {
      "provenance": [],
      "mount_file_id": "1-gxbtLqfhez2HyA4XTITcrLoihF3UOiG",
      "authorship_tag": "ABX9TyMf54g0A/0JBn/7XWicWRma",
      "include_colab_link": true
    },
    "kernelspec": {
      "name": "python3",
      "display_name": "Python 3"
    },
    "language_info": {
      "name": "python"
    }
  },
  "cells": [
    {
      "cell_type": "markdown",
      "metadata": {
        "id": "view-in-github",
        "colab_type": "text"
      },
      "source": [
        "<a href=\"https://colab.research.google.com/github/Febrian-chiperbase/Getting-Started-with-Python/blob/main/week1.ipynb\" target=\"_parent\"><img src=\"https://colab.research.google.com/assets/colab-badge.svg\" alt=\"Open In Colab\"/></a>"
      ]
    },
    {
      "cell_type": "code",
      "source": [
        "print (\"hello wordl\")"
      ],
      "metadata": {
        "colab": {
          "base_uri": "https://localhost:8080/"
        },
        "id": "w49BDTzEjyuf",
        "outputId": "5bb9b8fb-a991-45ef-cf98-5bf9c8df317b"
      },
      "execution_count": null,
      "outputs": [
        {
          "output_type": "stream",
          "name": "stdout",
          "text": [
            "hello wordl\n"
          ]
        }
      ]
    },
    {
      "cell_type": "code",
      "source": [
        "import time"
      ],
      "metadata": {
        "id": "wg9ofQ-xj68f"
      },
      "execution_count": null,
      "outputs": []
    },
    {
      "cell_type": "code",
      "source": [
        "print (time.ctime())"
      ],
      "metadata": {
        "colab": {
          "base_uri": "https://localhost:8080/"
        },
        "id": "yWTr6N7wj-rn",
        "outputId": "7c4c2385-d129-4a40-8b2d-8e7f068295ec"
      },
      "execution_count": null,
      "outputs": [
        {
          "output_type": "stream",
          "name": "stdout",
          "text": [
            "Thu Feb  6 04:41:44 2025\n"
          ]
        }
      ]
    },
    {
      "cell_type": "markdown",
      "source": [
        "**testing python**"
      ],
      "metadata": {
        "id": "H13kWpKTjk0F"
      }
    },
    {
      "cell_type": "code",
      "source": [
        "z = 30\n",
        "y = 20.5\n",
        "c = \"hii\"\n",
        "d = \"hello\", \"holla\"\n",
        "\n",
        "y,z,c,d\n",
        "\n",
        "print (z,y,c,d)"
      ],
      "metadata": {
        "colab": {
          "base_uri": "https://localhost:8080/"
        },
        "id": "ud6zV3Wykzm3",
        "outputId": "944a270a-2f97-49cd-a09c-7d7af0709f2a"
      },
      "execution_count": null,
      "outputs": [
        {
          "output_type": "stream",
          "name": "stdout",
          "text": [
            "30 20.5 hii ('hello', 'holla')\n"
          ]
        }
      ]
    },
    {
      "cell_type": "code",
      "source": [
        "o = int(1)\n",
        "y = int(30.3)\n",
        "z = int(\"3\")\n",
        "j = str(30)\n",
        "\n",
        "print(o,y,z,j)"
      ],
      "metadata": {
        "colab": {
          "base_uri": "https://localhost:8080/"
        },
        "id": "BeLS4TrWlKj3",
        "outputId": "4a3df181-cf1e-45fc-bc85-0e8434cf9b16"
      },
      "execution_count": null,
      "outputs": [
        {
          "output_type": "stream",
          "name": "stdout",
          "text": [
            "1 30 3 30\n"
          ]
        }
      ]
    },
    {
      "cell_type": "code",
      "source": [
        "a = \"haloo\"\n",
        "b = \" lohh\"\n",
        "c = a+b\n",
        "print (c)"
      ],
      "metadata": {
        "colab": {
          "base_uri": "https://localhost:8080/"
        },
        "id": "rWcb9V_BmA5H",
        "outputId": "ad2ca139-fcff-410e-8d06-c0953b40f440"
      },
      "execution_count": null,
      "outputs": [
        {
          "output_type": "stream",
          "name": "stdout",
          "text": [
            "haloo lohh\n"
          ]
        }
      ]
    },
    {
      "cell_type": "code",
      "source": [
        "a = \"Hello wordl\"\n",
        "\n",
        "print (a[6])\n",
        "print (len(a))"
      ],
      "metadata": {
        "colab": {
          "base_uri": "https://localhost:8080/"
        },
        "id": "oXcyJ1SAmR9N",
        "outputId": "125cd1f2-10c7-4e09-a20c-df521f6351e2"
      },
      "execution_count": null,
      "outputs": [
        {
          "output_type": "stream",
          "name": "stdout",
          "text": [
            "w\n",
            "11\n"
          ]
        }
      ]
    },
    {
      "cell_type": "code",
      "source": [
        "a = \"binus university\"\n",
        "\n",
        "print (a[2:5])\n",
        "print (a[6:])\n",
        "print (a[:5])"
      ],
      "metadata": {
        "colab": {
          "base_uri": "https://localhost:8080/"
        },
        "id": "HoavLhuAmsLL",
        "outputId": "5b684dd5-6361-433f-9178-457d5c2a6123"
      },
      "execution_count": null,
      "outputs": [
        {
          "output_type": "stream",
          "name": "stdout",
          "text": [
            "nus\n",
            "university\n",
            "binus\n"
          ]
        }
      ]
    },
    {
      "cell_type": "code",
      "source": [
        "contry = \"india\"\n",
        "\n",
        "print (contry.upper())\n",
        "print (contry.upper())\n",
        "print (contry.replace(\"ia\", \"o\"))"
      ],
      "metadata": {
        "colab": {
          "base_uri": "https://localhost:8080/"
        },
        "id": "dj8z5F8Anqkk",
        "outputId": "f019cdde-22ba-442a-dd44-7ac1f48459a2"
      },
      "execution_count": null,
      "outputs": [
        {
          "output_type": "stream",
          "name": "stdout",
          "text": [
            "INDIA\n",
            "INDIA\n",
            "indo\n"
          ]
        }
      ]
    },
    {
      "cell_type": "code",
      "source": [
        "from os.path import samefile\n",
        "a = \"sam\"\n",
        "b = 50\n",
        "c = \"nama saya {} umur saya {}\"\n",
        "print(c,a,b)"
      ],
      "metadata": {
        "colab": {
          "base_uri": "https://localhost:8080/"
        },
        "id": "bzNVOJpxo8Xi",
        "outputId": "b4f3228b-1152-4dfa-e250-ff01f3666818"
      },
      "execution_count": null,
      "outputs": [
        {
          "output_type": "stream",
          "name": "stdout",
          "text": [
            "nama saya {} umur saya {} sam 50\n"
          ]
        }
      ]
    },
    {
      "cell_type": "code",
      "source": [
        "nama = \"anom\"\n",
        "for i, char in enumerate(nama):\n",
        "  print(i, char)"
      ],
      "metadata": {
        "colab": {
          "base_uri": "https://localhost:8080/"
        },
        "id": "diL4gth-poB4",
        "outputId": "0e48b43d-00c2-4244-aa6d-718df5a962d6"
      },
      "execution_count": null,
      "outputs": [
        {
          "output_type": "stream",
          "name": "stdout",
          "text": [
            "0 a\n",
            "1 n\n",
            "2 o\n",
            "3 m\n"
          ]
        }
      ]
    },
    {
      "cell_type": "code",
      "source": [
        "\n",
        "def perbandingan(a,b):\n",
        "  if a < b:\n",
        "    print(\"a kurang dari b\") # Indented with 4 spaces\n",
        "  if a > b:\n",
        "    print(\"a lebih dari b\") # Indented with 4 spaces\n",
        "  if a == b:\n",
        "    print(\"a sama dengan b\")\n",
        "\n",
        "perbandingan(8,8)"
      ],
      "metadata": {
        "colab": {
          "base_uri": "https://localhost:8080/"
        },
        "id": "SFGaJKl9quqX",
        "outputId": "1d9784f4-223a-4581-fb64-31b31bedde91"
      },
      "execution_count": null,
      "outputs": [
        {
          "output_type": "stream",
          "name": "stdout",
          "text": [
            "a sama dengan b\n"
          ]
        }
      ]
    },
    {
      "cell_type": "code",
      "source": [
        "i = 2\n",
        "while i<9:\n",
        "  print(i)\n",
        "  i += 1\n"
      ],
      "metadata": {
        "colab": {
          "base_uri": "https://localhost:8080/"
        },
        "id": "jVgKD_w8rDhF",
        "outputId": "dd1dd54f-f8d2-4abc-eb5d-cbfb187aeea6"
      },
      "execution_count": null,
      "outputs": [
        {
          "output_type": "stream",
          "name": "stdout",
          "text": [
            "2\n",
            "3\n",
            "4\n",
            "5\n",
            "6\n",
            "7\n",
            "8\n"
          ]
        }
      ]
    },
    {
      "cell_type": "code",
      "source": [
        "i = 1\n",
        "\n",
        "for i in range(1,10):\n",
        "  print(i)"
      ],
      "metadata": {
        "colab": {
          "base_uri": "https://localhost:8080/"
        },
        "id": "PYD6mpAIrsxt",
        "outputId": "295e0f34-5c71-4d88-a442-2f25f596dd0e"
      },
      "execution_count": null,
      "outputs": [
        {
          "output_type": "stream",
          "name": "stdout",
          "text": [
            "1\n",
            "2\n",
            "3\n",
            "4\n",
            "5\n",
            "6\n",
            "7\n",
            "8\n",
            "9\n"
          ]
        }
      ]
    },
    {
      "cell_type": "code",
      "source": [
        "for o in range(1,10):\n",
        "  if o % 2 == 0:\n",
        "    print(\"ganjil\")\n",
        "  elif o % 2 == 1:\n",
        "    print(\"genap\")"
      ],
      "metadata": {
        "colab": {
          "base_uri": "https://localhost:8080/"
        },
        "id": "HzS3xrR1sazO",
        "outputId": "8da016d2-4bc2-4c3d-b375-083b8d3cca4a"
      },
      "execution_count": null,
      "outputs": [
        {
          "output_type": "stream",
          "name": "stdout",
          "text": [
            "genap\n",
            "ganjil\n",
            "genap\n",
            "ganjil\n",
            "genap\n",
            "ganjil\n",
            "genap\n",
            "ganjil\n",
            "genap\n"
          ]
        }
      ]
    },
    {
      "cell_type": "code",
      "source": [
        "import numpy as np\n",
        "\n"
      ],
      "metadata": {
        "id": "VCSclf8Nr1Xt"
      },
      "execution_count": null,
      "outputs": []
    },
    {
      "cell_type": "code",
      "source": [
        "x = np.array([[1,2,3],[3,5,6]])\n",
        "x"
      ],
      "metadata": {
        "colab": {
          "base_uri": "https://localhost:8080/"
        },
        "id": "i-W4Fk0dvXWG",
        "outputId": "81a30d7a-7bde-45b3-c9da-14e29835d9f9"
      },
      "execution_count": null,
      "outputs": [
        {
          "output_type": "execute_result",
          "data": {
            "text/plain": [
              "array([[1, 2, 3],\n",
              "       [3, 5, 6]])"
            ]
          },
          "metadata": {},
          "execution_count": 163
        }
      ]
    },
    {
      "cell_type": "code",
      "source": [
        "y = np.array([[1,7,9],[6,2,8]])\n",
        "y"
      ],
      "metadata": {
        "colab": {
          "base_uri": "https://localhost:8080/"
        },
        "id": "m0VuEw_nvuij",
        "outputId": "d8cc82ac-47da-4114-b5dc-ea7c445621df"
      },
      "execution_count": null,
      "outputs": [
        {
          "output_type": "execute_result",
          "data": {
            "text/plain": [
              "array([[1, 7, 9],\n",
              "       [6, 2, 8]])"
            ]
          },
          "metadata": {},
          "execution_count": 162
        }
      ]
    },
    {
      "cell_type": "code",
      "source": [
        "print(x+y)\n",
        "print(x-y)\n",
        "print(x*y)\n",
        "print(x/y)"
      ],
      "metadata": {
        "colab": {
          "base_uri": "https://localhost:8080/"
        },
        "id": "psfPPTFYyYRl",
        "outputId": "7e1df601-0db2-4d7c-cc58-4ae2423cc697"
      },
      "execution_count": null,
      "outputs": [
        {
          "output_type": "stream",
          "name": "stdout",
          "text": [
            "[[ 2  9 12]\n",
            " [ 9  7 14]]\n",
            "[[ 0 -5 -6]\n",
            " [-3  3 -2]]\n",
            "[[ 1 14 27]\n",
            " [18 10 48]]\n",
            "[[1.         0.28571429 0.33333333]\n",
            " [0.5        2.5        0.75      ]]\n"
          ]
        }
      ]
    },
    {
      "cell_type": "code",
      "source": [
        "del print\n",
        "data = np.array([1,2,3,6,7,8,9,43])\n",
        "print(\"rata rata\", np.mean(data))\n",
        "print(\"standar deviasi\", np.std(data))\n",
        "print(\"max\", np.max(data))\n",
        "print(\"min\", np.min(data))"
      ],
      "metadata": {
        "colab": {
          "base_uri": "https://localhost:8080/"
        },
        "id": "fHzIBX0ZwyDd",
        "outputId": "b514a361-bccf-4db7-9558-1ecb9e86c49a"
      },
      "execution_count": null,
      "outputs": [
        {
          "output_type": "stream",
          "name": "stdout",
          "text": [
            "rata rata 9.875\n",
            "standar deviasi 12.810518139404042\n",
            "max 43\n",
            "min 1\n"
          ]
        }
      ]
    }
  ]
}