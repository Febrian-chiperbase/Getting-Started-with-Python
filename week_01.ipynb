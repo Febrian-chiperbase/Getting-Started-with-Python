{
  "nbformat": 4,
  "nbformat_minor": 0,
  "metadata": {
    "colab": {
      "provenance": [],
      "authorship_tag": "ABX9TyPUBWN1WSTr2Iy+ERK6lneq",
      "include_colab_link": true
    },
    "kernelspec": {
      "name": "python3",
      "display_name": "Python 3"
    },
    "language_info": {
      "name": "python"
    }
  },
  "cells": [
    {
      "cell_type": "markdown",
      "metadata": {
        "id": "view-in-github",
        "colab_type": "text"
      },
      "source": [
        "<a href=\"https://colab.research.google.com/github/Febrian-chiperbase/Getting-Started-with-Python/blob/main/week_01.ipynb\" target=\"_parent\"><img src=\"https://colab.research.google.com/assets/colab-badge.svg\" alt=\"Open In Colab\"/></a>"
      ]
    },
    {
      "cell_type": "code",
      "execution_count": null,
      "metadata": {
        "colab": {
          "base_uri": "https://localhost:8080/"
        },
        "id": "QknwiENiCMVl",
        "outputId": "3151ff91-c37c-4128-8b11-62ed046a26be"
      },
      "outputs": [
        {
          "output_type": "stream",
          "name": "stdout",
          "text": [
            "Masukkan username: admin\n",
            "Masukkan password: Admin123\n",
            "Login berhasil!\n"
          ]
        }
      ],
      "source": [
        "def calculate(UAS, UTS, ASG):\n",
        "    final_score = (UAS * 0.5) + (UTS * 0.3) + (ASG * 0.2)\n",
        "    return final_score\n",
        "\n",
        "def grading(total):\n",
        "    if 90 <= total <= 100:\n",
        "        return 'A'\n",
        "    elif 85 <= total < 90:\n",
        "        return 'A-'\n",
        "    elif 80 <= total < 85:\n",
        "        return 'B+'\n",
        "    elif 75 <= total < 80:\n",
        "        return 'B'\n",
        "    elif 70 <= total < 75:\n",
        "        return 'B-'\n",
        "    elif 65 <= total < 70:\n",
        "        return 'C'\n",
        "    elif 60 <= total < 65:\n",
        "        return 'D'\n",
        "    elif 11 <= total < 60:\n",
        "        return 'E'\n",
        "    else:\n",
        "        return 'F'\n",
        "\n",
        "def main():\n",
        "    while True:\n",
        "        username = input(\"Masukkan username: \")\n",
        "        password = input(\"Masukkan password: \")\n",
        "        if password == \"Adm123\":\n",
        "            print(\"Login berhasil!\")\n",
        "            break\n",
        "        else:\n",
        "            print(\"Password salah, coba lagi.\")\n",
        "\n",
        "    nama_mahasiswa = input(\"Masukkan nama mahasiswa: \")\n",
        "\n",
        "    while True:\n",
        "        try:\n",
        "            UAS = float(input(\"Masukkan nilai UAS (0-100): \"))\n",
        "            UTS = float(input(\"Masukkan nilai UTS (0-100): \"))\n",
        "            ASG = float(input(\"Masukkan nilai ASG (0-100): \"))\n",
        "\n",
        "            if 0 <= UAS <= 100 and 0 <= UTS <= 100 and 0 <= ASG <= 100:\n",
        "                break\n",
        "            else:\n",
        "                print(\"Nilai harus berada dalam rentang 0 hingga 100.\")\n",
        "        except ValueError:\n",
        "            print(\"Input tidak valid, masukkan angka desimal (float).\")\n",
        "\n",
        "    final_score = calculate(UAS, UTS, ASG)\n",
        "    grade = grading(final_score)\n",
        "\n",
        "    print(f\"Hasil perolehan nilai {nama_mahasiswa}\")\n",
        "    print(f\"Final Score: {final_score:.2f}\")\n",
        "    print(f\"Grade: {grade}\")\n",
        "\n",
        "if __name__ == \"__main__\":\n",
        "    main()"
      ]
    }
  ]
}