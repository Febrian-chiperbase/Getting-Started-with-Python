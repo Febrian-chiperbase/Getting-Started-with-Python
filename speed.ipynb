{
  "nbformat": 4,
  "nbformat_minor": 0,
  "metadata": {
    "colab": {
      "provenance": [],
      "authorship_tag": "ABX9TyP6cmqw3JKvT1zLT36+j8Yg",
      "include_colab_link": true
    },
    "kernelspec": {
      "name": "python3",
      "display_name": "Python 3"
    },
    "language_info": {
      "name": "python"
    }
  },
  "cells": [
    {
      "cell_type": "markdown",
      "metadata": {
        "id": "view-in-github",
        "colab_type": "text"
      },
      "source": [
        "<a href=\"https://colab.research.google.com/github/Febrian-chiperbase/Getting-Started-with-Python/blob/main/speed.ipynb\" target=\"_parent\"><img src=\"https://colab.research.google.com/assets/colab-badge.svg\" alt=\"Open In Colab\"/></a>"
      ]
    },
    {
      "cell_type": "code",
      "execution_count": 1,
      "metadata": {
        "colab": {
          "base_uri": "https://localhost:8080/"
        },
        "id": "GH_v-F_K7Ux2",
        "outputId": "c779efce-e80b-4e00-ee9f-e8ea28dcf6cd"
      },
      "outputs": [
        {
          "output_type": "stream",
          "name": "stdout",
          "text": [
            "The speed at 7.2 meters is 17.2 m/s\n"
          ]
        }
      ],
      "source": [
        "x1, y1 = 5, 15  # Speed at 5 meters\n",
        "x2, y2 = 10, 20 # Speed at 10 meters\n",
        "x = 7.2         # Distance at which we want to interpolate\n",
        "\n",
        "y = y1 + ((y2 - y1) / (x2 - x1)) * (x - x1)\n",
        "\n",
        "print(f\"The speed at 7.2 meters is {y} m/s\")"
      ]
    }
  ]
}